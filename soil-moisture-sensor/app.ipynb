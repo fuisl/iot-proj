{
 "cells": [
  {
   "cell_type": "code",
   "execution_count": 2,
   "metadata": {},
   "outputs": [],
   "source": [
    "import os\n",
    "# The device connection string to authenticate the device with your IoT hub.\n",
    "connection_string = os.getenv(\"IOT_HUB_CONN_STR\") "
   ]
  },
  {
   "cell_type": "code",
   "execution_count": 4,
   "metadata": {},
   "outputs": [],
   "source": [
    "from azure.iot.device import IoTHubDeviceClient, Message, MethodResponse\n",
    "\n",
    "client = IoTHubDeviceClient.create_from_connection_string(connection_string)\n",
    "client.connect()"
   ]
  },
  {
   "cell_type": "code",
   "execution_count": 5,
   "metadata": {},
   "outputs": [],
   "source": [
    "from counterfit_connection import CounterFitConnection\n",
    "from counterfit_shims_grove.adc import ADC \n",
    "from counterfit_shims_grove.grove_relay import GroveRelay\n",
    "\n",
    "CounterFitConnection.init()  # init the connection local\n",
    "adc = ADC()\n",
    "relay = GroveRelay(5)\n"
   ]
  },
  {
   "cell_type": "code",
   "execution_count": 7,
   "metadata": {},
   "outputs": [],
   "source": [
    "def handle_request_method(request):\n",
    "    print(f\"Method received - {request.name}\")\n",
    "\n",
    "    if request.name == \"relay_on\":\n",
    "        relay.on()\n",
    "    elif request.name == \"relay_off\":\n",
    "        relay.off()\n",
    "\n",
    "    response = MethodResponse.create_from_method_request(request, 200)\n",
    "    client.send_method_response(response)\n",
    "client.on_method_request_received = handle_request_method"
   ]
  },
  {
   "cell_type": "code",
   "execution_count": 8,
   "metadata": {},
   "outputs": [
    {
     "name": "stdout",
     "output_type": "stream",
     "text": [
      "Soil moisture: 431\n",
      "Soil moisture: 430\n",
      "Soil moisture: 421\n",
      "Soil moisture: 476\n",
      "Soil moisture: 463\n",
      "Soil moisture: 497\n",
      "Soil moisture: 430\n",
      "Soil moisture: 444\n",
      "Soil moisture: 404\n",
      "Soil moisture: 443\n",
      "Soil moisture: 442\n",
      "Soil moisture: 425\n",
      "Method received - relay_on\n"
     ]
    },
    {
     "name": "stderr",
     "output_type": "stream",
     "text": [
      "Exception caught in background thread.  Unable to handle.\n",
      "['azure.iot.device.iothub.sync_handler_manager.HandlerManagerException: HANDLER (_on_method_request_received): Error during invocation\\n']\n"
     ]
    },
    {
     "name": "stdout",
     "output_type": "stream",
     "text": [
      "Soil moisture: 402\n",
      "Soil moisture: 487\n",
      "Soil moisture: 497\n",
      "Soil moisture: 432\n"
     ]
    },
    {
     "name": "stderr",
     "output_type": "stream",
     "text": [
      "Exception caught in background thread.  Unable to handle.\n",
      "['azure.iot.device.iothub.sync_handler_manager.HandlerManagerException: HANDLER (_on_method_request_received): Error during invocation\\n']\n"
     ]
    },
    {
     "name": "stdout",
     "output_type": "stream",
     "text": [
      "Method received - relay_onoff\n",
      "Soil moisture: 474\n",
      "Soil moisture: 419\n",
      "Soil moisture: 486\n"
     ]
    },
    {
     "ename": "KeyboardInterrupt",
     "evalue": "",
     "output_type": "error",
     "traceback": [
      "\u001b[1;31m---------------------------------------------------------------------------\u001b[0m",
      "\u001b[1;31mKeyboardInterrupt\u001b[0m                         Traceback (most recent call last)",
      "Cell \u001b[1;32mIn[8], line 9\u001b[0m\n\u001b[0;32m      6\u001b[0m msg \u001b[38;5;241m=\u001b[39m Message(\u001b[38;5;124mf\u001b[39m\u001b[38;5;124m'\u001b[39m\u001b[38;5;130;01m{{\u001b[39;00m\u001b[38;5;124m\"\u001b[39m\u001b[38;5;124msoil_moisture\u001b[39m\u001b[38;5;124m\"\u001b[39m\u001b[38;5;124m: \u001b[39m\u001b[38;5;132;01m{\u001b[39;00msoil_moisture\u001b[38;5;132;01m}\u001b[39;00m\u001b[38;5;130;01m}}\u001b[39;00m\u001b[38;5;124m'\u001b[39m)\n\u001b[0;32m      7\u001b[0m client\u001b[38;5;241m.\u001b[39msend_message(msg)\n\u001b[1;32m----> 9\u001b[0m \u001b[43mtime\u001b[49m\u001b[38;5;241;43m.\u001b[39;49m\u001b[43msleep\u001b[49m\u001b[43m(\u001b[49m\u001b[38;5;241;43m10\u001b[39;49m\u001b[43m)\u001b[49m\n",
      "\u001b[1;31mKeyboardInterrupt\u001b[0m: "
     ]
    },
    {
     "name": "stderr",
     "output_type": "stream",
     "text": [
      "Exception caught in background thread.  Unable to handle.\n",
      "['azure.iot.device.iothub.sync_handler_manager.HandlerManagerException: HANDLER (_on_method_request_received): Error during invocation\\n']\n"
     ]
    },
    {
     "name": "stdout",
     "output_type": "stream",
     "text": [
      "Method received - relay_onoff\n",
      "Method received - relay_off\n"
     ]
    },
    {
     "name": "stderr",
     "output_type": "stream",
     "text": [
      "Exception caught in background thread.  Unable to handle.\n",
      "['azure.iot.device.iothub.sync_handler_manager.HandlerManagerException: HANDLER (_on_method_request_received): Error during invocation\\n']\n"
     ]
    },
    {
     "name": "stdout",
     "output_type": "stream",
     "text": [
      "Method received - relay_on\n"
     ]
    },
    {
     "name": "stderr",
     "output_type": "stream",
     "text": [
      "Exception caught in background thread.  Unable to handle.\n",
      "['azure.iot.device.iothub.sync_handler_manager.HandlerManagerException: HANDLER (_on_method_request_received): Error during invocation\\n']\n"
     ]
    },
    {
     "name": "stdout",
     "output_type": "stream",
     "text": [
      "Method received - relay_on\n"
     ]
    },
    {
     "name": "stderr",
     "output_type": "stream",
     "text": [
      "Exception caught in background thread.  Unable to handle.\n",
      "['azure.iot.device.iothub.sync_handler_manager.HandlerManagerException: HANDLER (_on_method_request_received): Error during invocation\\n']\n"
     ]
    }
   ],
   "source": [
    "import time\n",
    "while True:\n",
    "    soil_moisture = adc.read(0)\n",
    "    print(f\"Soil moisture: {soil_moisture}\")\n",
    "\n",
    "    msg = Message(f'{{\"soil_moisture\": {soil_moisture}}}')\n",
    "    client.send_message(msg)\n",
    "\n",
    "    time.sleep(10)\n",
    "\n"
   ]
  }
 ],
 "metadata": {
  "kernelspec": {
   "display_name": "iot",
   "language": "python",
   "name": "python3"
  },
  "language_info": {
   "codemirror_mode": {
    "name": "ipython",
    "version": 3
   },
   "file_extension": ".py",
   "mimetype": "text/x-python",
   "name": "python",
   "nbconvert_exporter": "python",
   "pygments_lexer": "ipython3",
   "version": "3.9.18"
  }
 },
 "nbformat": 4,
 "nbformat_minor": 2
}
