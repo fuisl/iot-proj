{
 "cells": [
  {
   "cell_type": "code",
   "execution_count": 1,
   "metadata": {},
   "outputs": [],
   "source": [
    "import os\n",
    "\n",
    "connection_string = os.getenv(\"IOT_HUB_CONN_STR\")"
   ]
  },
  {
   "cell_type": "code",
   "execution_count": 4,
   "metadata": {},
   "outputs": [
    {
     "ename": "SyntaxError",
     "evalue": "invalid syntax (2258763494.py, line 19)",
     "output_type": "error",
     "traceback": [
      "\u001b[1;36m  Cell \u001b[1;32mIn[4], line 19\u001b[1;36m\u001b[0m\n\u001b[1;33m    client.send_method_response(method_response)\u001b[0m\n\u001b[1;37m    ^\u001b[0m\n\u001b[1;31mSyntaxError\u001b[0m\u001b[1;31m:\u001b[0m invalid syntax\n"
     ]
    }
   ],
   "source": [
    "from azure.iot.device import IoTHubDeviceClient, Message, MethodResponse\n",
    "\n",
    "client = IoTHubDeviceClient.create_from_connection_string(connection_string)\n",
    "\n",
    "client.connect()\n",
    "\n",
    "from counterfit_shims_grove.grove_relay import GroveRelay\n",
    "relay = GroveRelay(5)\n",
    "\n",
    "def direct_method_response(response):\n",
    "    print(response.name)\n",
    "\n",
    "    if response.name == \"relay_on\":\n",
    "        relay.on()\n",
    "    elif response.name == \"relay_off\":\n",
    "        relay.off()\n",
    "\n",
    "    method_response = MethodResponse.create_from_method_request(response, 200)\n",
    "    \n",
    "    client.send_method_response(method_response)\n",
    "\n",
    "client.on_method_request_received = direct_method_response"
   ]
  },
  {
   "cell_type": "code",
   "execution_count": 3,
   "metadata": {},
   "outputs": [],
   "source": [
    "from counterfit_connection import CounterFitConnection\n",
    "CounterFitConnection.init()"
   ]
  },
  {
   "cell_type": "code",
   "execution_count": 4,
   "metadata": {},
   "outputs": [],
   "source": [
    "from counterfit_shims_grove.adc import ADC\n",
    "import json\n",
    "import time\n",
    "adc = ADC()"
   ]
  },
  {
   "cell_type": "code",
   "execution_count": 3,
   "metadata": {},
   "outputs": [
    {
     "ename": "SyntaxError",
     "evalue": "invalid syntax (3805268349.py, line 13)",
     "output_type": "error",
     "traceback": [
      "\u001b[1;36m  Cell \u001b[1;32mIn[3], line 13\u001b[1;36m\u001b[0m\n\u001b[1;33m    client.send_method_response(method_response)\u001b[0m\n\u001b[1;37m    ^\u001b[0m\n\u001b[1;31mSyntaxError\u001b[0m\u001b[1;31m:\u001b[0m invalid syntax\n"
     ]
    }
   ],
   "source": []
  },
  {
   "cell_type": "code",
   "execution_count": null,
   "metadata": {},
   "outputs": [
    {
     "name": "stdout",
     "output_type": "stream",
     "text": [
      "Soil Moisture: 473\n",
      "Soil Moisture: 496\n",
      "Soil Moisture: 438\n",
      "Soil Moisture: 431\n",
      "Soil Moisture: 416\n",
      "Soil Moisture: 433\n",
      "Soil Moisture: 462\n",
      "Soil Moisture: 402\n",
      "Soil Moisture: 491\n"
     ]
    }
   ],
   "source": [
    "while True:\n",
    "    soil_moisture = adc.read(0)\n",
    "    msg = Message(json.dumps({\"soil_moisture\": soil_moisture}))\n",
    "\n",
    "    print(\"Soil Moisture: \" + str(soil_moisture))\n",
    "    client.send_message(msg)\n",
    "\n",
    "    time.sleep(20)"
   ]
  },
  {
   "cell_type": "code",
   "execution_count": null,
   "metadata": {},
   "outputs": [],
   "source": []
  }
 ],
 "metadata": {
  "kernelspec": {
   "display_name": "iot",
   "language": "python",
   "name": "python3"
  },
  "language_info": {
   "codemirror_mode": {
    "name": "ipython",
    "version": 3
   },
   "file_extension": ".py",
   "mimetype": "text/x-python",
   "name": "python",
   "nbconvert_exporter": "python",
   "pygments_lexer": "ipython3",
   "version": "3.9.18"
  }
 },
 "nbformat": 4,
 "nbformat_minor": 2
}
