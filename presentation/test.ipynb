{
 "cells": [
  {
   "cell_type": "code",
   "execution_count": 3,
   "metadata": {},
   "outputs": [],
   "source": [
    "# Communicate with counterfit using the serial port\n",
    "from counterfit_connection import CounterFitConnection\n",
    "CounterFitConnection.init()  # localhost, 5000 by default"
   ]
  },
  {
   "cell_type": "code",
   "execution_count": 2,
   "metadata": {},
   "outputs": [
    {
     "data": {
      "text/plain": [
       "'this_is_a_uri_connection_string'"
      ]
     },
     "execution_count": 2,
     "metadata": {},
     "output_type": "execute_result"
    }
   ],
   "source": [
    "# Import the necessary libraries\n",
    "from azure.iot.device import IoTHubDeviceClient, Message, MethodResponse\n",
    "import time\n",
    "from counterfit_shims_grove.adc import ADC\n",
    "from counterfit_shims_grove.grove_relay import GroveRelay\n",
    "import json\n",
    "\n",
    "adc = ADC()\n",
    "relay = GroveRelay(5)  # pin 5"
   ]
  },
  {
   "cell_type": "code",
   "execution_count": null,
   "metadata": {},
   "outputs": [],
   "source": [
    "import os\n",
    "\n",
    "connection_string = os.getenv(\"IOT_HUB_CONN_STR\")  # Connection string for the IoT Hub"
   ]
  },
  {
   "cell_type": "code",
   "execution_count": null,
   "metadata": {},
   "outputs": [],
   "source": [
    "device_client = IoTHubDeviceClient.create_from_connection_string(connection_string)\n",
    "\n",
    "print(\"Connecting...\")\n",
    "device_client.connect()\n",
    "print(\"Connected\")"
   ]
  },
  {
   "cell_type": "code",
   "execution_count": 4,
   "metadata": {},
   "outputs": [],
   "source": [
    "def handle_method_request(request):\n",
    "    print(f\"Received method request - {request.name}\")\n",
    "\n",
    "    if request.name == \"relay_on\":\n",
    "        relay.on()\n",
    "    elif request.name == \"relay_off\":\n",
    "        relay.off()\n",
    "\n",
    "    method_response = MethodResponse.create_from_method_request(request, 200)\n",
    "    device_client.send_method_response(method_response)\n",
    "\n",
    "device_client.on_method_request_received = handle_method_request"
   ]
  },
  {
   "cell_type": "code",
   "execution_count": null,
   "metadata": {},
   "outputs": [],
   "source": [
    "while True:\n",
    "    soil_moisture = adc.read(0)\n",
    "    print(\"Soil moisture: \", soil_moisture)  # Print the soil moisture value\n",
    "\n",
    "    msg = Message(json.dumps({\"soil_moisture\": soil_moisture}))\n",
    "    device_client.send_message(msg)\n",
    "\n",
    "    time.sleep(20)"
   ]
  }
 ],
 "metadata": {
  "kernelspec": {
   "display_name": "iot",
   "language": "python",
   "name": "python3"
  },
  "language_info": {
   "codemirror_mode": {
    "name": "ipython",
    "version": 3
   },
   "file_extension": ".py",
   "mimetype": "text/x-python",
   "name": "python",
   "nbconvert_exporter": "python",
   "pygments_lexer": "ipython3",
   "version": "3.9.18"
  }
 },
 "nbformat": 4,
 "nbformat_minor": 2
}
